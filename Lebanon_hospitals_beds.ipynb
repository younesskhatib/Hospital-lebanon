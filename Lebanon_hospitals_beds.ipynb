{
 "cells": [
  {
   "cell_type": "code",
   "execution_count": 23,
   "metadata": {},
   "outputs": [],
   "source": [
    "import pandas as pd\n",
    "import numpy as np\n",
    "import matplotlib\n",
    "import matplotlib.pyplot as plt\n",
    "import seaborn as sns\n",
    "import warnings \n",
    "warnings.filterwarnings('ignore')\n",
    "import folium\n",
    "from folium import plugins"
   ]
  },
  {
   "cell_type": "code",
   "execution_count": 2,
   "metadata": {},
   "outputs": [],
   "source": [
    "data=pd.read_excel('./Hospitals and Beds in Lebanon - 18 April 2021.xlsx')"
   ]
  },
  {
   "cell_type": "code",
   "execution_count": 3,
   "metadata": {},
   "outputs": [],
   "source": [
    "data['Year']=pd.to_datetime(data['Year'],format=\"%Y\",errors='coerce')"
   ]
  },
  {
   "cell_type": "code",
   "execution_count": 4,
   "metadata": {},
   "outputs": [
    {
     "data": {
      "text/html": [
       "<div>\n",
       "<style scoped>\n",
       "    .dataframe tbody tr th:only-of-type {\n",
       "        vertical-align: middle;\n",
       "    }\n",
       "\n",
       "    .dataframe tbody tr th {\n",
       "        vertical-align: top;\n",
       "    }\n",
       "\n",
       "    .dataframe thead th {\n",
       "        text-align: right;\n",
       "    }\n",
       "</style>\n",
       "<table border=\"1\" class=\"dataframe\">\n",
       "  <thead>\n",
       "    <tr style=\"text-align: right;\">\n",
       "      <th></th>\n",
       "      <th>Id</th>\n",
       "      <th>Hospital</th>\n",
       "      <th>Year</th>\n",
       "      <th>Location</th>\n",
       "      <th>Add</th>\n",
       "      <th>Address</th>\n",
       "      <th>Number of Beds</th>\n",
       "    </tr>\n",
       "  </thead>\n",
       "  <tbody>\n",
       "    <tr>\n",
       "      <th>0</th>\n",
       "      <td>1</td>\n",
       "      <td>Hopital Dr S. Serhal</td>\n",
       "      <td>1982-01-01</td>\n",
       "      <td>Metn/Baabda</td>\n",
       "      <td>Lebanon,El Rabieh</td>\n",
       "      <td>El Rabieh, Rue Michael Serhal</td>\n",
       "      <td>60</td>\n",
       "    </tr>\n",
       "    <tr>\n",
       "      <th>1</th>\n",
       "      <td>2</td>\n",
       "      <td>Hotel Dieu de France</td>\n",
       "      <td>1923-01-01</td>\n",
       "      <td>Beirut</td>\n",
       "      <td>Achrafieh - Beirut - Lebanon</td>\n",
       "      <td>Hotel Dieu de France - Bvd. Alfred Naccache - ...</td>\n",
       "      <td>430</td>\n",
       "    </tr>\n",
       "    <tr>\n",
       "      <th>2</th>\n",
       "      <td>3</td>\n",
       "      <td>Clinique Dr. Rizk</td>\n",
       "      <td>1925-01-01</td>\n",
       "      <td>Beirut</td>\n",
       "      <td>Rue Zahar - Achrafieh - Beyrouth - Liban</td>\n",
       "      <td>Rue Zahar - Achrafieh - Beyrouth - Liban</td>\n",
       "      <td>160</td>\n",
       "    </tr>\n",
       "    <tr>\n",
       "      <th>3</th>\n",
       "      <td>4</td>\n",
       "      <td>Makassed</td>\n",
       "      <td>1930-01-01</td>\n",
       "      <td>Beirut</td>\n",
       "      <td>Lebanon,Tarik El Jadida</td>\n",
       "      <td>Tarik El Jadida</td>\n",
       "      <td>200</td>\n",
       "    </tr>\n",
       "    <tr>\n",
       "      <th>4</th>\n",
       "      <td>5</td>\n",
       "      <td>Al-Rassoul Al-Aazam hospital</td>\n",
       "      <td>1988-01-01</td>\n",
       "      <td>Beirut</td>\n",
       "      <td>Bourj Al-Barajneh - Airport Road - Beirut</td>\n",
       "      <td>Bourj Al-Barajneh - Airport Road - Beirut</td>\n",
       "      <td>240</td>\n",
       "    </tr>\n",
       "    <tr>\n",
       "      <th>...</th>\n",
       "      <td>...</td>\n",
       "      <td>...</td>\n",
       "      <td>...</td>\n",
       "      <td>...</td>\n",
       "      <td>...</td>\n",
       "      <td>...</td>\n",
       "      <td>...</td>\n",
       "    </tr>\n",
       "    <tr>\n",
       "      <th>163</th>\n",
       "      <td>169</td>\n",
       "      <td>Bshamoun Specialty Hospital</td>\n",
       "      <td>NaT</td>\n",
       "      <td>Chouf/Aley</td>\n",
       "      <td>Lebanon,Bchamoun</td>\n",
       "      <td>NaN</td>\n",
       "      <td>32</td>\n",
       "    </tr>\n",
       "    <tr>\n",
       "      <th>164</th>\n",
       "      <td>170</td>\n",
       "      <td>Beirut Eye Specialty Hospital</td>\n",
       "      <td>NaT</td>\n",
       "      <td>Beirut</td>\n",
       "      <td>Lebanon,Ashrafieh</td>\n",
       "      <td>Achrafieh, Rue Hôtel Dieu</td>\n",
       "      <td>20</td>\n",
       "    </tr>\n",
       "    <tr>\n",
       "      <th>165</th>\n",
       "      <td>171</td>\n",
       "      <td>Dar El Chifaa</td>\n",
       "      <td>NaT</td>\n",
       "      <td>North Lebanon</td>\n",
       "      <td>Lebanon,Tripoli</td>\n",
       "      <td>NaN</td>\n",
       "      <td>50</td>\n",
       "    </tr>\n",
       "    <tr>\n",
       "      <th>166</th>\n",
       "      <td>172</td>\n",
       "      <td>Dar Al Zahraa</td>\n",
       "      <td>NaT</td>\n",
       "      <td>North Lebanon</td>\n",
       "      <td>Lebanon, Tripoli</td>\n",
       "      <td>Tripoli</td>\n",
       "      <td>0</td>\n",
       "    </tr>\n",
       "    <tr>\n",
       "      <th>167</th>\n",
       "      <td>173</td>\n",
       "      <td>Keserwan medical Center</td>\n",
       "      <td>NaT</td>\n",
       "      <td>Kesrouan/Jbeil</td>\n",
       "      <td>Lebanon,Ghazir</td>\n",
       "      <td>غازير</td>\n",
       "      <td>0</td>\n",
       "    </tr>\n",
       "  </tbody>\n",
       "</table>\n",
       "<p>168 rows × 7 columns</p>\n",
       "</div>"
      ],
      "text/plain": [
       "      Id                       Hospital       Year        Location  \\\n",
       "0      1           Hopital Dr S. Serhal 1982-01-01     Metn/Baabda   \n",
       "1      2           Hotel Dieu de France 1923-01-01          Beirut   \n",
       "2      3              Clinique Dr. Rizk 1925-01-01          Beirut   \n",
       "3      4                       Makassed 1930-01-01          Beirut   \n",
       "4      5   Al-Rassoul Al-Aazam hospital 1988-01-01          Beirut   \n",
       "..   ...                            ...        ...             ...   \n",
       "163  169    Bshamoun Specialty Hospital        NaT      Chouf/Aley   \n",
       "164  170  Beirut Eye Specialty Hospital        NaT          Beirut   \n",
       "165  171                  Dar El Chifaa        NaT   North Lebanon   \n",
       "166  172                  Dar Al Zahraa        NaT   North Lebanon   \n",
       "167  173        Keserwan medical Center        NaT  Kesrouan/Jbeil   \n",
       "\n",
       "                                           Add  \\\n",
       "0                            Lebanon,El Rabieh   \n",
       "1                 Achrafieh - Beirut - Lebanon   \n",
       "2     Rue Zahar - Achrafieh - Beyrouth - Liban   \n",
       "3                      Lebanon,Tarik El Jadida   \n",
       "4    Bourj Al-Barajneh - Airport Road - Beirut   \n",
       "..                                         ...   \n",
       "163                           Lebanon,Bchamoun   \n",
       "164                          Lebanon,Ashrafieh   \n",
       "165                            Lebanon,Tripoli   \n",
       "166                           Lebanon, Tripoli   \n",
       "167                             Lebanon,Ghazir   \n",
       "\n",
       "                                               Address  Number of Beds  \n",
       "0                        El Rabieh, Rue Michael Serhal              60  \n",
       "1    Hotel Dieu de France - Bvd. Alfred Naccache - ...             430  \n",
       "2             Rue Zahar - Achrafieh - Beyrouth - Liban             160  \n",
       "3                                      Tarik El Jadida             200  \n",
       "4            Bourj Al-Barajneh - Airport Road - Beirut             240  \n",
       "..                                                 ...             ...  \n",
       "163                                                NaN              32  \n",
       "164                          Achrafieh, Rue Hôtel Dieu              20  \n",
       "165                                                NaN              50  \n",
       "166                                            Tripoli               0  \n",
       "167                                              غازير               0  \n",
       "\n",
       "[168 rows x 7 columns]"
      ]
     },
     "execution_count": 4,
     "metadata": {},
     "output_type": "execute_result"
    }
   ],
   "source": [
    "data"
   ]
  },
  {
   "cell_type": "code",
   "execution_count": 59,
   "metadata": {},
   "outputs": [
    {
     "data": {
      "application/vnd.plotly.v1+json": {
       "config": {
        "plotlyServerURL": "https://plot.ly"
       },
       "data": [
        {
         "boxpoints": "all",
         "jitter": 0.5,
         "line": {
          "color": "rgb(0, 0, 102)"
         },
         "type": "box",
         "whiskerwidth": 0.2,
         "x": [
          "Metn/Baabda",
          "Beirut",
          "Beirut",
          "Beirut",
          "Beirut",
          "Metn/Baabda",
          "Chouf/Aley",
          "Kesrouan/Jbeil",
          "North Lebanon",
          "Beirut",
          "Metn/Baabda",
          "Beirut",
          "North Lebanon",
          "Kesrouan/Jbeil",
          "Beirut",
          "Bekaa",
          "Beirut",
          "Metn/Baabda",
          "Beirut",
          "Beirut",
          "Beirut",
          "Metn/Baabda",
          "Beirut",
          "Metn/Baabda",
          "Bekaa",
          "Metn/Baabda",
          "Bekaa",
          "Metn/Baabda",
          "Chouf/Aley",
          "Bekaa",
          "North Lebanon",
          "North Lebanon",
          "Beirut",
          "Bekaa",
          "North Lebanon",
          "South Lebanon",
          "North Lebanon",
          "Metn/Baabda",
          "Bekaa",
          "North Lebanon",
          "South Lebanon",
          "Kesrouan/Jbeil",
          "Metn/Baabda",
          "Chouf/Aley",
          "Kesrouan/Jbeil",
          "Beirut",
          "Chouf/Aley",
          "South Lebanon",
          "South Lebanon",
          "South Lebanon",
          "Bekaa",
          "Chouf/Aley",
          "Metn/Baabda",
          "South Lebanon",
          "Metn/Baabda",
          "Metn/Baabda",
          "South Lebanon",
          "Kesrouan/Jbeil",
          "Kesrouan/Jbeil",
          "South Lebanon",
          "Metn/Baabda",
          "Beirut",
          "South Lebanon",
          "Beirut",
          "Beirut",
          "Beirut",
          "Beirut",
          "Beirut",
          "Beirut",
          "Beirut",
          "Beirut",
          "Beirut",
          "Beirut",
          "Beirut",
          "Metn/Baabda",
          "Metn/Baabda",
          "Metn/Baabda",
          "Metn/Baabda",
          "Metn/Baabda",
          "Metn/Baabda",
          "Kesrouan/Jbeil",
          "Kesrouan/Jbeil",
          "Kesrouan/Jbeil",
          "Metn/Baabda",
          "Metn/Baabda",
          "Chouf/Aley",
          "North Lebanon",
          "Chouf/Aley",
          "Chouf/Aley",
          "Chouf/Aley",
          "Chouf/Aley",
          "Chouf/Aley",
          "Chouf/Aley",
          "Chouf/Aley",
          "Chouf/Aley",
          "Chouf/Aley",
          "Bekaa",
          "Bekaa",
          "Bekaa",
          "Bekaa",
          "Bekaa",
          "Bekaa",
          "Bekaa",
          "Bekaa",
          "Bekaa",
          "Bekaa",
          "Bekaa",
          "Bekaa",
          "Bekaa",
          "Bekaa",
          "Bekaa",
          "Bekaa",
          "North Lebanon",
          "North Lebanon",
          "North Lebanon",
          "North Lebanon",
          "North Lebanon",
          "North Lebanon",
          "North Lebanon",
          "North Lebanon",
          "North Lebanon",
          "North Lebanon",
          "North Lebanon",
          "North Lebanon",
          "North Lebanon",
          "North Lebanon",
          "North Lebanon",
          "North Lebanon",
          "North Lebanon",
          "South Lebanon",
          "South Lebanon",
          "South Lebanon",
          "South Lebanon",
          "South Lebanon",
          "South Lebanon",
          "South Lebanon",
          "South Lebanon",
          "South Lebanon",
          "South Lebanon",
          "South Lebanon",
          "South Lebanon",
          "South Lebanon",
          "South Lebanon",
          "South Lebanon",
          "Metn/Baabda",
          "Metn/Baabda",
          "Metn/Baabda",
          "Beirut",
          "Beirut",
          "Beirut",
          "Beirut",
          "Beirut",
          "Metn/Baabda",
          "South Lebanon",
          "South Lebanon",
          "Bekaa",
          "Chouf/Aley",
          "Metn/Baabda",
          "Metn/Baabda",
          "Metn/Baabda",
          "Metn/Baabda",
          "North Lebanon",
          "Metn/Baabda",
          "Chouf/Aley",
          "Beirut",
          "North Lebanon",
          "North Lebanon",
          "Kesrouan/Jbeil"
         ],
         "y": [
          60,
          430,
          160,
          200,
          240,
          150,
          137,
          90,
          128,
          700,
          600,
          19,
          164,
          13,
          26,
          125,
          70,
          159,
          15,
          13,
          200,
          14,
          53,
          130,
          35,
          50,
          84,
          117,
          40,
          30,
          15,
          35,
          200,
          80,
          25,
          100,
          127,
          50,
          220,
          177,
          120,
          250,
          52,
          280,
          65,
          40,
          39,
          27,
          52,
          28,
          40,
          40,
          85,
          240,
          234,
          112,
          100,
          100,
          105,
          120,
          130,
          12,
          47,
          180,
          50,
          23,
          210,
          100,
          16,
          16,
          152,
          63,
          32,
          150,
          95,
          100,
          20,
          40,
          150,
          907,
          25,
          10,
          140,
          300,
          50,
          60,
          125,
          55,
          125,
          30,
          25,
          52,
          19,
          65,
          32,
          30,
          32,
          60,
          85,
          50,
          36,
          100,
          23,
          75,
          120,
          132,
          50,
          59,
          75,
          125,
          25,
          20,
          100,
          35,
          50,
          50,
          82,
          62,
          120,
          120,
          0,
          75,
          0,
          84,
          150,
          149,
          144,
          50,
          0,
          50,
          50,
          0,
          100,
          0,
          0,
          300,
          24,
          90,
          90,
          56,
          0,
          75,
          80,
          0,
          120,
          50,
          70,
          24,
          400,
          20,
          97,
          106,
          200,
          37,
          40,
          29,
          44,
          15,
          50,
          81,
          98,
          50,
          150,
          32,
          20,
          50,
          0,
          0
         ]
        }
       ],
       "layout": {
        "plot_bgcolor": "rgb(204,229,255)",
        "template": {
         "data": {
          "bar": [
           {
            "error_x": {
             "color": "#2a3f5f"
            },
            "error_y": {
             "color": "#2a3f5f"
            },
            "marker": {
             "line": {
              "color": "#E5ECF6",
              "width": 0.5
             }
            },
            "type": "bar"
           }
          ],
          "barpolar": [
           {
            "marker": {
             "line": {
              "color": "#E5ECF6",
              "width": 0.5
             }
            },
            "type": "barpolar"
           }
          ],
          "carpet": [
           {
            "aaxis": {
             "endlinecolor": "#2a3f5f",
             "gridcolor": "white",
             "linecolor": "white",
             "minorgridcolor": "white",
             "startlinecolor": "#2a3f5f"
            },
            "baxis": {
             "endlinecolor": "#2a3f5f",
             "gridcolor": "white",
             "linecolor": "white",
             "minorgridcolor": "white",
             "startlinecolor": "#2a3f5f"
            },
            "type": "carpet"
           }
          ],
          "choropleth": [
           {
            "colorbar": {
             "outlinewidth": 0,
             "ticks": ""
            },
            "type": "choropleth"
           }
          ],
          "contour": [
           {
            "colorbar": {
             "outlinewidth": 0,
             "ticks": ""
            },
            "colorscale": [
             [
              0,
              "#0d0887"
             ],
             [
              0.1111111111111111,
              "#46039f"
             ],
             [
              0.2222222222222222,
              "#7201a8"
             ],
             [
              0.3333333333333333,
              "#9c179e"
             ],
             [
              0.4444444444444444,
              "#bd3786"
             ],
             [
              0.5555555555555556,
              "#d8576b"
             ],
             [
              0.6666666666666666,
              "#ed7953"
             ],
             [
              0.7777777777777778,
              "#fb9f3a"
             ],
             [
              0.8888888888888888,
              "#fdca26"
             ],
             [
              1,
              "#f0f921"
             ]
            ],
            "type": "contour"
           }
          ],
          "contourcarpet": [
           {
            "colorbar": {
             "outlinewidth": 0,
             "ticks": ""
            },
            "type": "contourcarpet"
           }
          ],
          "heatmap": [
           {
            "colorbar": {
             "outlinewidth": 0,
             "ticks": ""
            },
            "colorscale": [
             [
              0,
              "#0d0887"
             ],
             [
              0.1111111111111111,
              "#46039f"
             ],
             [
              0.2222222222222222,
              "#7201a8"
             ],
             [
              0.3333333333333333,
              "#9c179e"
             ],
             [
              0.4444444444444444,
              "#bd3786"
             ],
             [
              0.5555555555555556,
              "#d8576b"
             ],
             [
              0.6666666666666666,
              "#ed7953"
             ],
             [
              0.7777777777777778,
              "#fb9f3a"
             ],
             [
              0.8888888888888888,
              "#fdca26"
             ],
             [
              1,
              "#f0f921"
             ]
            ],
            "type": "heatmap"
           }
          ],
          "heatmapgl": [
           {
            "colorbar": {
             "outlinewidth": 0,
             "ticks": ""
            },
            "colorscale": [
             [
              0,
              "#0d0887"
             ],
             [
              0.1111111111111111,
              "#46039f"
             ],
             [
              0.2222222222222222,
              "#7201a8"
             ],
             [
              0.3333333333333333,
              "#9c179e"
             ],
             [
              0.4444444444444444,
              "#bd3786"
             ],
             [
              0.5555555555555556,
              "#d8576b"
             ],
             [
              0.6666666666666666,
              "#ed7953"
             ],
             [
              0.7777777777777778,
              "#fb9f3a"
             ],
             [
              0.8888888888888888,
              "#fdca26"
             ],
             [
              1,
              "#f0f921"
             ]
            ],
            "type": "heatmapgl"
           }
          ],
          "histogram": [
           {
            "marker": {
             "colorbar": {
              "outlinewidth": 0,
              "ticks": ""
             }
            },
            "type": "histogram"
           }
          ],
          "histogram2d": [
           {
            "colorbar": {
             "outlinewidth": 0,
             "ticks": ""
            },
            "colorscale": [
             [
              0,
              "#0d0887"
             ],
             [
              0.1111111111111111,
              "#46039f"
             ],
             [
              0.2222222222222222,
              "#7201a8"
             ],
             [
              0.3333333333333333,
              "#9c179e"
             ],
             [
              0.4444444444444444,
              "#bd3786"
             ],
             [
              0.5555555555555556,
              "#d8576b"
             ],
             [
              0.6666666666666666,
              "#ed7953"
             ],
             [
              0.7777777777777778,
              "#fb9f3a"
             ],
             [
              0.8888888888888888,
              "#fdca26"
             ],
             [
              1,
              "#f0f921"
             ]
            ],
            "type": "histogram2d"
           }
          ],
          "histogram2dcontour": [
           {
            "colorbar": {
             "outlinewidth": 0,
             "ticks": ""
            },
            "colorscale": [
             [
              0,
              "#0d0887"
             ],
             [
              0.1111111111111111,
              "#46039f"
             ],
             [
              0.2222222222222222,
              "#7201a8"
             ],
             [
              0.3333333333333333,
              "#9c179e"
             ],
             [
              0.4444444444444444,
              "#bd3786"
             ],
             [
              0.5555555555555556,
              "#d8576b"
             ],
             [
              0.6666666666666666,
              "#ed7953"
             ],
             [
              0.7777777777777778,
              "#fb9f3a"
             ],
             [
              0.8888888888888888,
              "#fdca26"
             ],
             [
              1,
              "#f0f921"
             ]
            ],
            "type": "histogram2dcontour"
           }
          ],
          "mesh3d": [
           {
            "colorbar": {
             "outlinewidth": 0,
             "ticks": ""
            },
            "type": "mesh3d"
           }
          ],
          "parcoords": [
           {
            "line": {
             "colorbar": {
              "outlinewidth": 0,
              "ticks": ""
             }
            },
            "type": "parcoords"
           }
          ],
          "pie": [
           {
            "automargin": true,
            "type": "pie"
           }
          ],
          "scatter": [
           {
            "marker": {
             "colorbar": {
              "outlinewidth": 0,
              "ticks": ""
             }
            },
            "type": "scatter"
           }
          ],
          "scatter3d": [
           {
            "line": {
             "colorbar": {
              "outlinewidth": 0,
              "ticks": ""
             }
            },
            "marker": {
             "colorbar": {
              "outlinewidth": 0,
              "ticks": ""
             }
            },
            "type": "scatter3d"
           }
          ],
          "scattercarpet": [
           {
            "marker": {
             "colorbar": {
              "outlinewidth": 0,
              "ticks": ""
             }
            },
            "type": "scattercarpet"
           }
          ],
          "scattergeo": [
           {
            "marker": {
             "colorbar": {
              "outlinewidth": 0,
              "ticks": ""
             }
            },
            "type": "scattergeo"
           }
          ],
          "scattergl": [
           {
            "marker": {
             "colorbar": {
              "outlinewidth": 0,
              "ticks": ""
             }
            },
            "type": "scattergl"
           }
          ],
          "scattermapbox": [
           {
            "marker": {
             "colorbar": {
              "outlinewidth": 0,
              "ticks": ""
             }
            },
            "type": "scattermapbox"
           }
          ],
          "scatterpolar": [
           {
            "marker": {
             "colorbar": {
              "outlinewidth": 0,
              "ticks": ""
             }
            },
            "type": "scatterpolar"
           }
          ],
          "scatterpolargl": [
           {
            "marker": {
             "colorbar": {
              "outlinewidth": 0,
              "ticks": ""
             }
            },
            "type": "scatterpolargl"
           }
          ],
          "scatterternary": [
           {
            "marker": {
             "colorbar": {
              "outlinewidth": 0,
              "ticks": ""
             }
            },
            "type": "scatterternary"
           }
          ],
          "surface": [
           {
            "colorbar": {
             "outlinewidth": 0,
             "ticks": ""
            },
            "colorscale": [
             [
              0,
              "#0d0887"
             ],
             [
              0.1111111111111111,
              "#46039f"
             ],
             [
              0.2222222222222222,
              "#7201a8"
             ],
             [
              0.3333333333333333,
              "#9c179e"
             ],
             [
              0.4444444444444444,
              "#bd3786"
             ],
             [
              0.5555555555555556,
              "#d8576b"
             ],
             [
              0.6666666666666666,
              "#ed7953"
             ],
             [
              0.7777777777777778,
              "#fb9f3a"
             ],
             [
              0.8888888888888888,
              "#fdca26"
             ],
             [
              1,
              "#f0f921"
             ]
            ],
            "type": "surface"
           }
          ],
          "table": [
           {
            "cells": {
             "fill": {
              "color": "#EBF0F8"
             },
             "line": {
              "color": "white"
             }
            },
            "header": {
             "fill": {
              "color": "#C8D4E3"
             },
             "line": {
              "color": "white"
             }
            },
            "type": "table"
           }
          ]
         },
         "layout": {
          "annotationdefaults": {
           "arrowcolor": "#2a3f5f",
           "arrowhead": 0,
           "arrowwidth": 1
          },
          "autotypenumbers": "strict",
          "coloraxis": {
           "colorbar": {
            "outlinewidth": 0,
            "ticks": ""
           }
          },
          "colorscale": {
           "diverging": [
            [
             0,
             "#8e0152"
            ],
            [
             0.1,
             "#c51b7d"
            ],
            [
             0.2,
             "#de77ae"
            ],
            [
             0.3,
             "#f1b6da"
            ],
            [
             0.4,
             "#fde0ef"
            ],
            [
             0.5,
             "#f7f7f7"
            ],
            [
             0.6,
             "#e6f5d0"
            ],
            [
             0.7,
             "#b8e186"
            ],
            [
             0.8,
             "#7fbc41"
            ],
            [
             0.9,
             "#4d9221"
            ],
            [
             1,
             "#276419"
            ]
           ],
           "sequential": [
            [
             0,
             "#0d0887"
            ],
            [
             0.1111111111111111,
             "#46039f"
            ],
            [
             0.2222222222222222,
             "#7201a8"
            ],
            [
             0.3333333333333333,
             "#9c179e"
            ],
            [
             0.4444444444444444,
             "#bd3786"
            ],
            [
             0.5555555555555556,
             "#d8576b"
            ],
            [
             0.6666666666666666,
             "#ed7953"
            ],
            [
             0.7777777777777778,
             "#fb9f3a"
            ],
            [
             0.8888888888888888,
             "#fdca26"
            ],
            [
             1,
             "#f0f921"
            ]
           ],
           "sequentialminus": [
            [
             0,
             "#0d0887"
            ],
            [
             0.1111111111111111,
             "#46039f"
            ],
            [
             0.2222222222222222,
             "#7201a8"
            ],
            [
             0.3333333333333333,
             "#9c179e"
            ],
            [
             0.4444444444444444,
             "#bd3786"
            ],
            [
             0.5555555555555556,
             "#d8576b"
            ],
            [
             0.6666666666666666,
             "#ed7953"
            ],
            [
             0.7777777777777778,
             "#fb9f3a"
            ],
            [
             0.8888888888888888,
             "#fdca26"
            ],
            [
             1,
             "#f0f921"
            ]
           ]
          },
          "colorway": [
           "#636efa",
           "#EF553B",
           "#00cc96",
           "#ab63fa",
           "#FFA15A",
           "#19d3f3",
           "#FF6692",
           "#B6E880",
           "#FF97FF",
           "#FECB52"
          ],
          "font": {
           "color": "#2a3f5f"
          },
          "geo": {
           "bgcolor": "white",
           "lakecolor": "white",
           "landcolor": "#E5ECF6",
           "showlakes": true,
           "showland": true,
           "subunitcolor": "white"
          },
          "hoverlabel": {
           "align": "left"
          },
          "hovermode": "closest",
          "mapbox": {
           "style": "light"
          },
          "paper_bgcolor": "white",
          "plot_bgcolor": "#E5ECF6",
          "polar": {
           "angularaxis": {
            "gridcolor": "white",
            "linecolor": "white",
            "ticks": ""
           },
           "bgcolor": "#E5ECF6",
           "radialaxis": {
            "gridcolor": "white",
            "linecolor": "white",
            "ticks": ""
           }
          },
          "scene": {
           "xaxis": {
            "backgroundcolor": "#E5ECF6",
            "gridcolor": "white",
            "gridwidth": 2,
            "linecolor": "white",
            "showbackground": true,
            "ticks": "",
            "zerolinecolor": "white"
           },
           "yaxis": {
            "backgroundcolor": "#E5ECF6",
            "gridcolor": "white",
            "gridwidth": 2,
            "linecolor": "white",
            "showbackground": true,
            "ticks": "",
            "zerolinecolor": "white"
           },
           "zaxis": {
            "backgroundcolor": "#E5ECF6",
            "gridcolor": "white",
            "gridwidth": 2,
            "linecolor": "white",
            "showbackground": true,
            "ticks": "",
            "zerolinecolor": "white"
           }
          },
          "shapedefaults": {
           "line": {
            "color": "#2a3f5f"
           }
          },
          "ternary": {
           "aaxis": {
            "gridcolor": "white",
            "linecolor": "white",
            "ticks": ""
           },
           "baxis": {
            "gridcolor": "white",
            "linecolor": "white",
            "ticks": ""
           },
           "bgcolor": "#E5ECF6",
           "caxis": {
            "gridcolor": "white",
            "linecolor": "white",
            "ticks": ""
           }
          },
          "title": {
           "x": 0.05
          },
          "xaxis": {
           "automargin": true,
           "gridcolor": "white",
           "linecolor": "white",
           "ticks": "",
           "title": {
            "standoff": 15
           },
           "zerolinecolor": "white",
           "zerolinewidth": 2
          },
          "yaxis": {
           "automargin": true,
           "gridcolor": "white",
           "linecolor": "white",
           "ticks": "",
           "title": {
            "standoff": 15
           },
           "zerolinecolor": "white",
           "zerolinewidth": 2
          }
         }
        },
        "title": {
         "text": "Number of beds across Lebanon"
        }
       }
      },
      "text/html": [
       "<div>                            <div id=\"504f1169-8e8d-454d-b703-ee9da54410f2\" class=\"plotly-graph-div\" style=\"height:525px; width:100%;\"></div>            <script type=\"text/javascript\">                require([\"plotly\"], function(Plotly) {                    window.PLOTLYENV=window.PLOTLYENV || {};                                    if (document.getElementById(\"504f1169-8e8d-454d-b703-ee9da54410f2\")) {                    Plotly.newPlot(                        \"504f1169-8e8d-454d-b703-ee9da54410f2\",                        [{\"boxpoints\": \"all\", \"jitter\": 0.5, \"line\": {\"color\": \"rgb(0, 0, 102)\"}, \"type\": \"box\", \"whiskerwidth\": 0.2, \"x\": [\"Metn/Baabda\", \"Beirut\", \"Beirut\", \"Beirut\", \"Beirut\", \"Metn/Baabda\", \"Chouf/Aley\", \"Kesrouan/Jbeil\", \"North Lebanon\", \"Beirut\", \"Metn/Baabda\", \"Beirut\", \"North Lebanon\", \"Kesrouan/Jbeil\", \"Beirut\", \"Bekaa\", \"Beirut\", \"Metn/Baabda\", \"Beirut\", \"Beirut\", \"Beirut\", \"Metn/Baabda\", \"Beirut\", \"Metn/Baabda\", \"Bekaa\", \"Metn/Baabda\", \"Bekaa\", \"Metn/Baabda\", \"Chouf/Aley\", \"Bekaa\", \"North Lebanon\", \"North Lebanon\", \"Beirut\", \"Bekaa\", \"North Lebanon\", \"South Lebanon\", \"North Lebanon\", \"Metn/Baabda\", \"Bekaa\", \"North Lebanon\", \"South Lebanon\", \"Kesrouan/Jbeil\", \"Metn/Baabda\", \"Chouf/Aley\", \"Kesrouan/Jbeil\", \"Beirut\", \"Chouf/Aley\", \"South Lebanon\", \"South Lebanon\", \"South Lebanon\", \"Bekaa\", \"Chouf/Aley\", \"Metn/Baabda\", \"South Lebanon\", \"Metn/Baabda\", \"Metn/Baabda\", \"South Lebanon\", \"Kesrouan/Jbeil\", \"Kesrouan/Jbeil\", \"South Lebanon\", \"Metn/Baabda\", \"Beirut\", \"South Lebanon\", \"Beirut\", \"Beirut\", \"Beirut\", \"Beirut\", \"Beirut\", \"Beirut\", \"Beirut\", \"Beirut\", \"Beirut\", \"Beirut\", \"Beirut\", \"Metn/Baabda\", \"Metn/Baabda\", \"Metn/Baabda\", \"Metn/Baabda\", \"Metn/Baabda\", \"Metn/Baabda\", \"Kesrouan/Jbeil\", \"Kesrouan/Jbeil\", \"Kesrouan/Jbeil\", \"Metn/Baabda\", \"Metn/Baabda\", \"Chouf/Aley\", \"North Lebanon\", \"Chouf/Aley\", \"Chouf/Aley\", \"Chouf/Aley\", \"Chouf/Aley\", \"Chouf/Aley\", \"Chouf/Aley\", \"Chouf/Aley\", \"Chouf/Aley\", \"Chouf/Aley\", \"Bekaa\", \"Bekaa\", \"Bekaa\", \"Bekaa\", \"Bekaa\", \"Bekaa\", \"Bekaa\", \"Bekaa\", \"Bekaa\", \"Bekaa\", \"Bekaa\", \"Bekaa\", \"Bekaa\", \"Bekaa\", \"Bekaa\", \"Bekaa\", \"North Lebanon\", \"North Lebanon\", \"North Lebanon\", \"North Lebanon\", \"North Lebanon\", \"North Lebanon\", \"North Lebanon\", \"North Lebanon\", \"North Lebanon\", \"North Lebanon\", \"North Lebanon\", \"North Lebanon\", \"North Lebanon\", \"North Lebanon\", \"North Lebanon\", \"North Lebanon\", \"North Lebanon\", \"South Lebanon\", \"South Lebanon\", \"South Lebanon\", \"South Lebanon\", \"South Lebanon\", \"South Lebanon\", \"South Lebanon\", \"South Lebanon\", \"South Lebanon\", \"South Lebanon\", \"South Lebanon\", \"South Lebanon\", \"South Lebanon\", \"South Lebanon\", \"South Lebanon\", \"Metn/Baabda\", \"Metn/Baabda\", \"Metn/Baabda\", \"Beirut\", \"Beirut\", \"Beirut\", \"Beirut\", \"Beirut\", \"Metn/Baabda\", \"South Lebanon\", \"South Lebanon\", \"Bekaa\", \"Chouf/Aley\", \"Metn/Baabda\", \"Metn/Baabda\", \"Metn/Baabda\", \"Metn/Baabda\", \"North Lebanon\", \"Metn/Baabda\", \"Chouf/Aley\", \"Beirut\", \"North Lebanon\", \"North Lebanon\", \"Kesrouan/Jbeil\"], \"y\": [60, 430, 160, 200, 240, 150, 137, 90, 128, 700, 600, 19, 164, 13, 26, 125, 70, 159, 15, 13, 200, 14, 53, 130, 35, 50, 84, 117, 40, 30, 15, 35, 200, 80, 25, 100, 127, 50, 220, 177, 120, 250, 52, 280, 65, 40, 39, 27, 52, 28, 40, 40, 85, 240, 234, 112, 100, 100, 105, 120, 130, 12, 47, 180, 50, 23, 210, 100, 16, 16, 152, 63, 32, 150, 95, 100, 20, 40, 150, 907, 25, 10, 140, 300, 50, 60, 125, 55, 125, 30, 25, 52, 19, 65, 32, 30, 32, 60, 85, 50, 36, 100, 23, 75, 120, 132, 50, 59, 75, 125, 25, 20, 100, 35, 50, 50, 82, 62, 120, 120, 0, 75, 0, 84, 150, 149, 144, 50, 0, 50, 50, 0, 100, 0, 0, 300, 24, 90, 90, 56, 0, 75, 80, 0, 120, 50, 70, 24, 400, 20, 97, 106, 200, 37, 40, 29, 44, 15, 50, 81, 98, 50, 150, 32, 20, 50, 0, 0]}],                        {\"plot_bgcolor\": \"rgb(204,229,255)\", \"template\": {\"data\": {\"bar\": [{\"error_x\": {\"color\": \"#2a3f5f\"}, \"error_y\": {\"color\": \"#2a3f5f\"}, \"marker\": {\"line\": {\"color\": \"#E5ECF6\", \"width\": 0.5}}, \"type\": \"bar\"}], \"barpolar\": [{\"marker\": {\"line\": {\"color\": \"#E5ECF6\", \"width\": 0.5}}, \"type\": \"barpolar\"}], \"carpet\": [{\"aaxis\": {\"endlinecolor\": \"#2a3f5f\", \"gridcolor\": \"white\", \"linecolor\": \"white\", \"minorgridcolor\": \"white\", \"startlinecolor\": \"#2a3f5f\"}, \"baxis\": {\"endlinecolor\": \"#2a3f5f\", \"gridcolor\": \"white\", \"linecolor\": \"white\", \"minorgridcolor\": \"white\", \"startlinecolor\": \"#2a3f5f\"}, \"type\": \"carpet\"}], \"choropleth\": [{\"colorbar\": {\"outlinewidth\": 0, \"ticks\": \"\"}, \"type\": \"choropleth\"}], \"contour\": [{\"colorbar\": {\"outlinewidth\": 0, \"ticks\": \"\"}, \"colorscale\": [[0.0, \"#0d0887\"], [0.1111111111111111, \"#46039f\"], [0.2222222222222222, \"#7201a8\"], [0.3333333333333333, \"#9c179e\"], [0.4444444444444444, \"#bd3786\"], [0.5555555555555556, \"#d8576b\"], [0.6666666666666666, \"#ed7953\"], [0.7777777777777778, \"#fb9f3a\"], [0.8888888888888888, \"#fdca26\"], [1.0, \"#f0f921\"]], \"type\": \"contour\"}], \"contourcarpet\": [{\"colorbar\": {\"outlinewidth\": 0, \"ticks\": \"\"}, \"type\": \"contourcarpet\"}], \"heatmap\": [{\"colorbar\": {\"outlinewidth\": 0, \"ticks\": \"\"}, \"colorscale\": [[0.0, \"#0d0887\"], [0.1111111111111111, \"#46039f\"], [0.2222222222222222, \"#7201a8\"], [0.3333333333333333, \"#9c179e\"], [0.4444444444444444, \"#bd3786\"], [0.5555555555555556, \"#d8576b\"], [0.6666666666666666, \"#ed7953\"], [0.7777777777777778, \"#fb9f3a\"], [0.8888888888888888, \"#fdca26\"], [1.0, \"#f0f921\"]], \"type\": \"heatmap\"}], \"heatmapgl\": [{\"colorbar\": {\"outlinewidth\": 0, \"ticks\": \"\"}, \"colorscale\": [[0.0, \"#0d0887\"], [0.1111111111111111, \"#46039f\"], [0.2222222222222222, \"#7201a8\"], [0.3333333333333333, \"#9c179e\"], [0.4444444444444444, \"#bd3786\"], [0.5555555555555556, \"#d8576b\"], [0.6666666666666666, \"#ed7953\"], [0.7777777777777778, \"#fb9f3a\"], [0.8888888888888888, \"#fdca26\"], [1.0, \"#f0f921\"]], \"type\": \"heatmapgl\"}], \"histogram\": [{\"marker\": {\"colorbar\": {\"outlinewidth\": 0, \"ticks\": \"\"}}, \"type\": \"histogram\"}], \"histogram2d\": [{\"colorbar\": {\"outlinewidth\": 0, \"ticks\": \"\"}, \"colorscale\": [[0.0, \"#0d0887\"], [0.1111111111111111, \"#46039f\"], [0.2222222222222222, \"#7201a8\"], [0.3333333333333333, \"#9c179e\"], [0.4444444444444444, \"#bd3786\"], [0.5555555555555556, \"#d8576b\"], [0.6666666666666666, \"#ed7953\"], [0.7777777777777778, \"#fb9f3a\"], [0.8888888888888888, \"#fdca26\"], [1.0, \"#f0f921\"]], \"type\": \"histogram2d\"}], \"histogram2dcontour\": [{\"colorbar\": {\"outlinewidth\": 0, \"ticks\": \"\"}, \"colorscale\": [[0.0, \"#0d0887\"], [0.1111111111111111, \"#46039f\"], [0.2222222222222222, \"#7201a8\"], [0.3333333333333333, \"#9c179e\"], [0.4444444444444444, \"#bd3786\"], [0.5555555555555556, \"#d8576b\"], [0.6666666666666666, \"#ed7953\"], [0.7777777777777778, \"#fb9f3a\"], [0.8888888888888888, \"#fdca26\"], [1.0, \"#f0f921\"]], \"type\": \"histogram2dcontour\"}], \"mesh3d\": [{\"colorbar\": {\"outlinewidth\": 0, \"ticks\": \"\"}, \"type\": \"mesh3d\"}], \"parcoords\": [{\"line\": {\"colorbar\": {\"outlinewidth\": 0, \"ticks\": \"\"}}, \"type\": \"parcoords\"}], \"pie\": [{\"automargin\": true, \"type\": \"pie\"}], \"scatter\": [{\"marker\": {\"colorbar\": {\"outlinewidth\": 0, \"ticks\": \"\"}}, \"type\": \"scatter\"}], \"scatter3d\": [{\"line\": {\"colorbar\": {\"outlinewidth\": 0, \"ticks\": \"\"}}, \"marker\": {\"colorbar\": {\"outlinewidth\": 0, \"ticks\": \"\"}}, \"type\": \"scatter3d\"}], \"scattercarpet\": [{\"marker\": {\"colorbar\": {\"outlinewidth\": 0, \"ticks\": \"\"}}, \"type\": \"scattercarpet\"}], \"scattergeo\": [{\"marker\": {\"colorbar\": {\"outlinewidth\": 0, \"ticks\": \"\"}}, \"type\": \"scattergeo\"}], \"scattergl\": [{\"marker\": {\"colorbar\": {\"outlinewidth\": 0, \"ticks\": \"\"}}, \"type\": \"scattergl\"}], \"scattermapbox\": [{\"marker\": {\"colorbar\": {\"outlinewidth\": 0, \"ticks\": \"\"}}, \"type\": \"scattermapbox\"}], \"scatterpolar\": [{\"marker\": {\"colorbar\": {\"outlinewidth\": 0, \"ticks\": \"\"}}, \"type\": \"scatterpolar\"}], \"scatterpolargl\": [{\"marker\": {\"colorbar\": {\"outlinewidth\": 0, \"ticks\": \"\"}}, \"type\": \"scatterpolargl\"}], \"scatterternary\": [{\"marker\": {\"colorbar\": {\"outlinewidth\": 0, \"ticks\": \"\"}}, \"type\": \"scatterternary\"}], \"surface\": [{\"colorbar\": {\"outlinewidth\": 0, \"ticks\": \"\"}, \"colorscale\": [[0.0, \"#0d0887\"], [0.1111111111111111, \"#46039f\"], [0.2222222222222222, \"#7201a8\"], [0.3333333333333333, \"#9c179e\"], [0.4444444444444444, \"#bd3786\"], [0.5555555555555556, \"#d8576b\"], [0.6666666666666666, \"#ed7953\"], [0.7777777777777778, \"#fb9f3a\"], [0.8888888888888888, \"#fdca26\"], [1.0, \"#f0f921\"]], \"type\": \"surface\"}], \"table\": [{\"cells\": {\"fill\": {\"color\": \"#EBF0F8\"}, \"line\": {\"color\": \"white\"}}, \"header\": {\"fill\": {\"color\": \"#C8D4E3\"}, \"line\": {\"color\": \"white\"}}, \"type\": \"table\"}]}, \"layout\": {\"annotationdefaults\": {\"arrowcolor\": \"#2a3f5f\", \"arrowhead\": 0, \"arrowwidth\": 1}, \"autotypenumbers\": \"strict\", \"coloraxis\": {\"colorbar\": {\"outlinewidth\": 0, \"ticks\": \"\"}}, \"colorscale\": {\"diverging\": [[0, \"#8e0152\"], [0.1, \"#c51b7d\"], [0.2, \"#de77ae\"], [0.3, \"#f1b6da\"], [0.4, \"#fde0ef\"], [0.5, \"#f7f7f7\"], [0.6, \"#e6f5d0\"], [0.7, \"#b8e186\"], [0.8, \"#7fbc41\"], [0.9, \"#4d9221\"], [1, \"#276419\"]], \"sequential\": [[0.0, \"#0d0887\"], [0.1111111111111111, \"#46039f\"], [0.2222222222222222, \"#7201a8\"], [0.3333333333333333, \"#9c179e\"], [0.4444444444444444, \"#bd3786\"], [0.5555555555555556, \"#d8576b\"], [0.6666666666666666, \"#ed7953\"], [0.7777777777777778, \"#fb9f3a\"], [0.8888888888888888, \"#fdca26\"], [1.0, \"#f0f921\"]], \"sequentialminus\": [[0.0, \"#0d0887\"], [0.1111111111111111, \"#46039f\"], [0.2222222222222222, \"#7201a8\"], [0.3333333333333333, \"#9c179e\"], [0.4444444444444444, \"#bd3786\"], [0.5555555555555556, \"#d8576b\"], [0.6666666666666666, \"#ed7953\"], [0.7777777777777778, \"#fb9f3a\"], [0.8888888888888888, \"#fdca26\"], [1.0, \"#f0f921\"]]}, \"colorway\": [\"#636efa\", \"#EF553B\", \"#00cc96\", \"#ab63fa\", \"#FFA15A\", \"#19d3f3\", \"#FF6692\", \"#B6E880\", \"#FF97FF\", \"#FECB52\"], \"font\": {\"color\": \"#2a3f5f\"}, \"geo\": {\"bgcolor\": \"white\", \"lakecolor\": \"white\", \"landcolor\": \"#E5ECF6\", \"showlakes\": true, \"showland\": true, \"subunitcolor\": \"white\"}, \"hoverlabel\": {\"align\": \"left\"}, \"hovermode\": \"closest\", \"mapbox\": {\"style\": \"light\"}, \"paper_bgcolor\": \"white\", \"plot_bgcolor\": \"#E5ECF6\", \"polar\": {\"angularaxis\": {\"gridcolor\": \"white\", \"linecolor\": \"white\", \"ticks\": \"\"}, \"bgcolor\": \"#E5ECF6\", \"radialaxis\": {\"gridcolor\": \"white\", \"linecolor\": \"white\", \"ticks\": \"\"}}, \"scene\": {\"xaxis\": {\"backgroundcolor\": \"#E5ECF6\", \"gridcolor\": \"white\", \"gridwidth\": 2, \"linecolor\": \"white\", \"showbackground\": true, \"ticks\": \"\", \"zerolinecolor\": \"white\"}, \"yaxis\": {\"backgroundcolor\": \"#E5ECF6\", \"gridcolor\": \"white\", \"gridwidth\": 2, \"linecolor\": \"white\", \"showbackground\": true, \"ticks\": \"\", \"zerolinecolor\": \"white\"}, \"zaxis\": {\"backgroundcolor\": \"#E5ECF6\", \"gridcolor\": \"white\", \"gridwidth\": 2, \"linecolor\": \"white\", \"showbackground\": true, \"ticks\": \"\", \"zerolinecolor\": \"white\"}}, \"shapedefaults\": {\"line\": {\"color\": \"#2a3f5f\"}}, \"ternary\": {\"aaxis\": {\"gridcolor\": \"white\", \"linecolor\": \"white\", \"ticks\": \"\"}, \"baxis\": {\"gridcolor\": \"white\", \"linecolor\": \"white\", \"ticks\": \"\"}, \"bgcolor\": \"#E5ECF6\", \"caxis\": {\"gridcolor\": \"white\", \"linecolor\": \"white\", \"ticks\": \"\"}}, \"title\": {\"x\": 0.05}, \"xaxis\": {\"automargin\": true, \"gridcolor\": \"white\", \"linecolor\": \"white\", \"ticks\": \"\", \"title\": {\"standoff\": 15}, \"zerolinecolor\": \"white\", \"zerolinewidth\": 2}, \"yaxis\": {\"automargin\": true, \"gridcolor\": \"white\", \"linecolor\": \"white\", \"ticks\": \"\", \"title\": {\"standoff\": 15}, \"zerolinecolor\": \"white\", \"zerolinewidth\": 2}}}, \"title\": {\"text\": \"Number of beds across Lebanon\"}},                        {\"responsive\": true}                    ).then(function(){\n",
       "                            \n",
       "var gd = document.getElementById('504f1169-8e8d-454d-b703-ee9da54410f2');\n",
       "var x = new MutationObserver(function (mutations, observer) {{\n",
       "        var display = window.getComputedStyle(gd).display;\n",
       "        if (!display || display === 'none') {{\n",
       "            console.log([gd, 'removed!']);\n",
       "            Plotly.purge(gd);\n",
       "            observer.disconnect();\n",
       "        }}\n",
       "}});\n",
       "\n",
       "// Listen for the removal of the full notebook cells\n",
       "var notebookContainer = gd.closest('#notebook-container');\n",
       "if (notebookContainer) {{\n",
       "    x.observe(notebookContainer, {childList: true});\n",
       "}}\n",
       "\n",
       "// Listen for the clearing of the current output cell\n",
       "var outputEl = gd.closest('.output');\n",
       "if (outputEl) {{\n",
       "    x.observe(outputEl, {childList: true});\n",
       "}}\n",
       "\n",
       "                        })                };                });            </script>        </div>"
      ]
     },
     "metadata": {},
     "output_type": "display_data"
    }
   ],
   "source": [
    "import plotly.express as px\n",
    "import plotly.graph_objects as go\n",
    "fig = go.Figure()\n",
    "fig.add_trace(go.Box(x=data['Location'],y=data['Number of Beds'],boxpoints='all',line=dict(color='rgb(0, 0, 102)'\n",
    "),jitter=0.5,whiskerwidth=0.2))\n",
    "fig.update_layout( plot_bgcolor='rgb(204,229,255)')\n",
    "fig.update_layout(title_text=\"Number of beds across Lebanon\")\n",
    "fig.show()"
   ]
  },
  {
   "cell_type": "code",
   "execution_count": 65,
   "metadata": {},
   "outputs": [
    {
     "name": "stdout",
     "output_type": "stream",
     "text": [
      "33.8750629\n",
      "35.843409\n"
     ]
    }
   ],
   "source": [
    "import requests\n",
    "import urllib.parse\n",
    "address = 'Lebanon '\n",
    "url = 'https://nominatim.openstreetmap.org/search/' + urllib.parse.quote(address) +'?format=json'\n",
    "response = requests.get(url).json()\n",
    "print(response[0][\"lat\"])\n",
    "print(response[0][\"lon\"])"
   ]
  },
  {
   "cell_type": "code",
   "execution_count": 66,
   "metadata": {},
   "outputs": [],
   "source": [
    "def get_add_lat(x):\n",
    "    address = str(x)\n",
    "    url = 'https://nominatim.openstreetmap.org/search/' + urllib.parse.quote(address) +'?format=json'\n",
    "    response = requests.get(url).json()\n",
    "    print(response[0][\"lat\"])\n",
    "#     print(response[0][\"lon\"])"
   ]
  },
  {
   "cell_type": "code",
   "execution_count": 67,
   "metadata": {},
   "outputs": [],
   "source": [
    "def get_lat(x):\n",
    "    address=str(x)\n",
    "    url='https://nominatim.openstreetmap.org/search/' + urllib.parse.quote(address) +'?format=json'\n",
    "#     response=requests.get(url).json()\n",
    "    return requests.get(url).json()[0]['lat']\n",
    "    "
   ]
  },
  {
   "cell_type": "code",
   "execution_count": 68,
   "metadata": {},
   "outputs": [],
   "source": [
    "def get_long(x):\n",
    "    address=str(x)\n",
    "    url='https://nominatim.openstreetmap.org/search/' + urllib.parse.quote(address) +'?format=json'\n",
    "#     response=requests.get(url).json()\n",
    "    return requests.get(url).json()[0]['lon']"
   ]
  },
  {
   "cell_type": "code",
   "execution_count": 69,
   "metadata": {},
   "outputs": [],
   "source": [
    "data['Add_lat']=data['Add'].apply(lambda x: get_lat(x))"
   ]
  },
  {
   "cell_type": "code",
   "execution_count": 70,
   "metadata": {},
   "outputs": [],
   "source": [
    "data['Add_long']=data['Add'].apply(lambda x: get_long(x))"
   ]
  },
  {
   "cell_type": "code",
   "execution_count": 190,
   "metadata": {},
   "outputs": [],
   "source": [
    "# m=folium.Map([33.8750629,35.843409])\n",
    "# folium.TileLayer('Stamen Terrain').add_to(m)\n",
    "# folium.TileLayer('Stamen Toner').add_to(m)\n",
    "# folium.TileLayer('Stamen Water Color').add_to(m)\n",
    "# folium.TileLayer('cartodbpositron').add_to(m)\n",
    "# folium.TileLayer('cartodbdark_matter').add_to(m)\n",
    "# folium.LayerControl().add_to(m)\n",
    "# for i in range(0,len(data)):\n",
    "#     folium.Circle(\n",
    "#       location=[data.iloc[i]['Add_lat'], data.iloc[i]['Add_long']],\n",
    "#       popup=data.iloc[i]['Hospital'],\n",
    "#       radius=float(data.iloc[i]['Number of Beds']*2),\n",
    "#       color='crimson',\n",
    "#       fill=True,\n",
    "#       fill_color='green'\n",
    "#    ).add_to(m)\n",
    "# m"
   ]
  },
  {
   "cell_type": "code",
   "execution_count": 71,
   "metadata": {},
   "outputs": [],
   "source": [
    "m=folium.Map([33.8750629,35.843409])\n",
    "folium.TileLayer('Stamen Terrain').add_to(m)\n",
    "folium.TileLayer('Stamen Toner').add_to(m)\n",
    "folium.TileLayer('Stamen Water Color').add_to(m)\n",
    "folium.TileLayer('cartodbpositron').add_to(m)\n",
    "folium.TileLayer('cartodbdark_matter').add_to(m)\n",
    "folium.LayerControl().add_to(m)\n",
    "for i in range(0,len(data)):\n",
    "    folium.Marker(\n",
    "      location=[data.iloc[i]['Add_lat'], data.iloc[i]['Add_long']],\n",
    "      popup=data.iloc[i]['Hospital'],icon=folium.Icon(color='green',icon='glyphicon glyphicon-plus-sign')\n",
    "   ).add_to(m)\n",
    "m.save(\"hospitals.html\")"
   ]
  },
  {
   "cell_type": "code",
   "execution_count": 186,
   "metadata": {},
   "outputs": [],
   "source": [
    "# # convert to (n, 2) nd-array format for heatmap\n",
    "# stationArr = pd.DataFrame([response[0][\"lat\"],response[0][\"lon\"]]).as_matrix()\n",
    "\n",
    "# # plot heatmap\n",
    "# m.add_children(plugins.HeatMap([response[0][\"lat\"],response[0][\"lon\"]], radius=15))\n",
    "# m"
   ]
  },
  {
   "cell_type": "code",
   "execution_count": 72,
   "metadata": {
    "scrolled": false
   },
   "outputs": [],
   "source": [
    "from folium.plugins import HeatMap\n",
    "m=folium.Map([33.8750629,35.843409])\n",
    "df_copy = data.copy()\n",
    "HeatMap(data=df_copy[['Add_lat', 'Add_long', 'Number of Beds']].groupby(['Add_lat', 'Add_long']).sum().reset_index().values.tolist(), radius=20).add_to(m)\n",
    "m.save(\"heatmap.html\")"
   ]
  },
  {
   "cell_type": "code",
   "execution_count": 698,
   "metadata": {},
   "outputs": [],
   "source": [
    "data.to_excel('final_data.xlsx')"
   ]
  },
  {
   "cell_type": "code",
   "execution_count": 680,
   "metadata": {},
   "outputs": [],
   "source": [
    "# from geopy.geocoders import Nominatim\n",
    "# geolocator = Nominatim(user_agent='younasspider@gmail.com')\n",
    "# location = geolocator.geocode(\"Lebanon,El Rabieh\")\n",
    "# print(location.address)\n",
    "# print((location.latitude, location.longitude))\n",
    "# folium.Marker(location=[location.latitude,location.longitude],).add_to(m)\n",
    "# m"
   ]
  },
  {
   "cell_type": "code",
   "execution_count": 681,
   "metadata": {},
   "outputs": [],
   "source": [
    "# from folium.plugins import HeatMap\n",
    "# df_copy = df.copy()\n",
    "# base_map = generateBaseMap()\n",
    "# HeatMap(data=df_copy[['pickup_latitude', 'pickup_longitude', 'count']].groupby(['pickup_latitude', 'pickup_longitude']).sum().reset_index().values.tolist(), radius=8, max_zoom=13).add_to(base_map)"
   ]
  },
  {
   "cell_type": "code",
   "execution_count": 682,
   "metadata": {},
   "outputs": [],
   "source": [
    "# /Users/younes/Downloads/countries.geojson"
   ]
  },
  {
   "cell_type": "code",
   "execution_count": 683,
   "metadata": {},
   "outputs": [],
   "source": [
    "# m = folium.Map([39.3710358,-84.2128058])\n",
    "# m"
   ]
  },
  {
   "cell_type": "code",
   "execution_count": 684,
   "metadata": {
    "scrolled": true
   },
   "outputs": [],
   "source": [
    "# import selenium\n",
    "# from selenium import webdriver\n",
    "# from selenium.webdriver.support import expected_conditions as EC\n",
    "# from selenium.webdriver.support.ui import WebDriverWait\n",
    "# from selenium.webdriver.common.by import By\n",
    "# from selenium.webdriver.chrome.options import Options \n",
    "# option = webdriver.ChromeOptions()\n",
    "# option.add_argument('headless')\n",
    "\n",
    "# driver = webdriver.Chrome(\"/Users/younes/Desktop/Younes/booking_library/chromedriver\",options=option)\n",
    "# driver.get('https://www.latlong.net/')\n",
    "# element = WebDriverWait(driver, 10).until(\n",
    "#         EC.presence_of_element_located((By.ID, \"onetrust-accept-btn-handler\")))\n",
    "# # accept_er=driver.find_elements_by_xpath('/html/body/div[4]/div[3]/div/div[1]/div/div[2]/div/button[1]')\n",
    "# element.click()\n",
    "# location=WebDriverWait(driver, 10).until(\n",
    "#         EC.presence_of_element_located((By.ID,\"place\")))\n",
    "# # location=driver.find_elements_by_xpath('//*[@id=\"place\"]')\n",
    "# location.clear()\n",
    "# location.send_keys('Lebanon')\n",
    "# find_button=WebDriverWait(driver, 10).until(\n",
    "#         EC.presence_of_element_located((By.ID,\"btnfind\")))\n",
    "# # find_button=driver.find_elements_by_xpath('//*[@id=\"btnfind\"]')\n",
    "# find_button.click()\n",
    "# latitude=WebDriverWait(driver, 10).until(\n",
    "#         EC.presence_of_element_located((By.ID,\"lat\")))\n",
    "# longitude=WebDriverWait(driver, 10).until(\n",
    "#         EC.presence_of_element_located((By.ID,\"lng\")))\n",
    "# # latitude=driver.find_elements_by_xpath('//*[@id=\"lat\"]')\n",
    "# # longitude=driver.find_elements_by_xpath('//*[@id=\"lng\"]')\n",
    "# print(latitude.get_attribute('value'))\n",
    "# print(longitude.get_attribute('value'))\n"
   ]
  },
  {
   "cell_type": "code",
   "execution_count": 685,
   "metadata": {},
   "outputs": [],
   "source": [
    "# import geopandas"
   ]
  },
  {
   "cell_type": "code",
   "execution_count": 686,
   "metadata": {},
   "outputs": [],
   "source": [
    "# gdf = geopandas.GeoDataFrame(\n",
    "#     data['Address'], geometry=geopandas.points_from_xy(df.Longitude, df.Latitude))"
   ]
  },
  {
   "cell_type": "code",
   "execution_count": 687,
   "metadata": {},
   "outputs": [],
   "source": [
    "# import requests\n",
    "# address='1600+Amphitheatre+Parkway'\n",
    "# response = requests.get('https://maps.googleapis.com/maps/api/geocode/json?address='+str(address)+',+Mountain+View,+CA')\n",
    "\n",
    "# resp_json_payload = response.json()\n",
    "\n",
    "# print(resp_json_payload['results'][0]['geometry']['location'])"
   ]
  },
  {
   "cell_type": "code",
   "execution_count": null,
   "metadata": {},
   "outputs": [],
   "source": []
  }
 ],
 "metadata": {
  "kernelspec": {
   "display_name": "Python 3",
   "language": "python",
   "name": "python3"
  },
  "language_info": {
   "codemirror_mode": {
    "name": "ipython",
    "version": 3
   },
   "file_extension": ".py",
   "mimetype": "text/x-python",
   "name": "python",
   "nbconvert_exporter": "python",
   "pygments_lexer": "ipython3",
   "version": "3.8.5"
  }
 },
 "nbformat": 4,
 "nbformat_minor": 4
}
